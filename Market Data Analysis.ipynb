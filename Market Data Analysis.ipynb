{
 "cells": [
  {
   "cell_type": "code",
   "execution_count": 122,
   "id": "f2709b64",
   "metadata": {},
   "outputs": [],
   "source": [
    "import TFANN\n",
    "import tensorflow as tf\n",
    "import numpy as np\n",
    "import pandas as pd\n",
    "import matplotlib.pyplot as plt \n",
    "from sklearn.preprocessing import scale\n",
    "import sklearn.preprocessing as sk\n",
    "from TFANN import ANNR"
   ]
  },
  {
   "cell_type": "code",
   "execution_count": 26,
   "id": "57024baa",
   "metadata": {},
   "outputs": [
    {
     "data": {
      "text/html": [
       "<div>\n",
       "<style scoped>\n",
       "    .dataframe tbody tr th:only-of-type {\n",
       "        vertical-align: middle;\n",
       "    }\n",
       "\n",
       "    .dataframe tbody tr th {\n",
       "        vertical-align: top;\n",
       "    }\n",
       "\n",
       "    .dataframe thead th {\n",
       "        text-align: right;\n",
       "    }\n",
       "</style>\n",
       "<table border=\"1\" class=\"dataframe\">\n",
       "  <thead>\n",
       "    <tr style=\"text-align: right;\">\n",
       "      <th></th>\n",
       "      <th>Unnamed: 0</th>\n",
       "      <th>Symbol</th>\n",
       "      <th>Series</th>\n",
       "      <th>Date</th>\n",
       "      <th>Date Value</th>\n",
       "      <th>Prev Close</th>\n",
       "      <th>Open Price</th>\n",
       "      <th>High Price</th>\n",
       "      <th>Low Price</th>\n",
       "      <th>Last Price</th>\n",
       "      <th>Close Price</th>\n",
       "      <th>Average Price</th>\n",
       "      <th>Total Traded Quantity</th>\n",
       "      <th>Turnover</th>\n",
       "      <th>No. of Trades</th>\n",
       "      <th>Deliverable Qty</th>\n",
       "      <th>% Dly Qt to Traded Qty</th>\n",
       "    </tr>\n",
       "  </thead>\n",
       "  <tbody>\n",
       "    <tr>\n",
       "      <th>0</th>\n",
       "      <td>0</td>\n",
       "      <td>WIPRO</td>\n",
       "      <td>EQ</td>\n",
       "      <td>20-Apr-20</td>\n",
       "      <td>43941.0</td>\n",
       "      <td>187.00</td>\n",
       "      <td>189.00</td>\n",
       "      <td>189.0</td>\n",
       "      <td>180.15</td>\n",
       "      <td>180.55</td>\n",
       "      <td>181.10</td>\n",
       "      <td>183.33</td>\n",
       "      <td>8101663</td>\n",
       "      <td>1.485310e+09</td>\n",
       "      <td>79381</td>\n",
       "      <td>3735374</td>\n",
       "      <td>46.11</td>\n",
       "    </tr>\n",
       "    <tr>\n",
       "      <th>1</th>\n",
       "      <td>1</td>\n",
       "      <td>WIPRO</td>\n",
       "      <td>EQ</td>\n",
       "      <td>21-Apr-20</td>\n",
       "      <td>43942.0</td>\n",
       "      <td>181.10</td>\n",
       "      <td>179.00</td>\n",
       "      <td>179.9</td>\n",
       "      <td>173.80</td>\n",
       "      <td>178.30</td>\n",
       "      <td>178.05</td>\n",
       "      <td>176.98</td>\n",
       "      <td>9043319</td>\n",
       "      <td>1.600480e+09</td>\n",
       "      <td>75722</td>\n",
       "      <td>3454927</td>\n",
       "      <td>38.2</td>\n",
       "    </tr>\n",
       "    <tr>\n",
       "      <th>2</th>\n",
       "      <td>2</td>\n",
       "      <td>WIPRO</td>\n",
       "      <td>EQ</td>\n",
       "      <td>22-Apr-20</td>\n",
       "      <td>43943.0</td>\n",
       "      <td>178.05</td>\n",
       "      <td>177.00</td>\n",
       "      <td>179.5</td>\n",
       "      <td>175.05</td>\n",
       "      <td>178.30</td>\n",
       "      <td>178.55</td>\n",
       "      <td>177.59</td>\n",
       "      <td>5311640</td>\n",
       "      <td>9.432809e+08</td>\n",
       "      <td>62150</td>\n",
       "      <td>2169513</td>\n",
       "      <td>40.84</td>\n",
       "    </tr>\n",
       "    <tr>\n",
       "      <th>3</th>\n",
       "      <td>3</td>\n",
       "      <td>WIPRO</td>\n",
       "      <td>EQ</td>\n",
       "      <td>23-Apr-20</td>\n",
       "      <td>43944.0</td>\n",
       "      <td>178.55</td>\n",
       "      <td>179.40</td>\n",
       "      <td>182.6</td>\n",
       "      <td>177.10</td>\n",
       "      <td>181.00</td>\n",
       "      <td>180.90</td>\n",
       "      <td>180.23</td>\n",
       "      <td>5555420</td>\n",
       "      <td>1.001237e+09</td>\n",
       "      <td>54314</td>\n",
       "      <td>2444423</td>\n",
       "      <td>44</td>\n",
       "    </tr>\n",
       "    <tr>\n",
       "      <th>4</th>\n",
       "      <td>4</td>\n",
       "      <td>WIPRO</td>\n",
       "      <td>EQ</td>\n",
       "      <td>24-Apr-20</td>\n",
       "      <td>43945.0</td>\n",
       "      <td>180.90</td>\n",
       "      <td>179.95</td>\n",
       "      <td>180.8</td>\n",
       "      <td>177.15</td>\n",
       "      <td>178.20</td>\n",
       "      <td>177.75</td>\n",
       "      <td>178.12</td>\n",
       "      <td>4641140</td>\n",
       "      <td>8.266740e+08</td>\n",
       "      <td>50379</td>\n",
       "      <td>2393295</td>\n",
       "      <td>51.57</td>\n",
       "    </tr>\n",
       "  </tbody>\n",
       "</table>\n",
       "</div>"
      ],
      "text/plain": [
       "   Unnamed: 0 Symbol Series       Date  Date Value  Prev Close  Open Price  \\\n",
       "0           0  WIPRO     EQ  20-Apr-20     43941.0      187.00      189.00   \n",
       "1           1  WIPRO     EQ  21-Apr-20     43942.0      181.10      179.00   \n",
       "2           2  WIPRO     EQ  22-Apr-20     43943.0      178.05      177.00   \n",
       "3           3  WIPRO     EQ  23-Apr-20     43944.0      178.55      179.40   \n",
       "4           4  WIPRO     EQ  24-Apr-20     43945.0      180.90      179.95   \n",
       "\n",
       "   High Price  Low Price  Last Price  Close Price  Average Price  \\\n",
       "0       189.0     180.15      180.55       181.10         183.33   \n",
       "1       179.9     173.80      178.30       178.05         176.98   \n",
       "2       179.5     175.05      178.30       178.55         177.59   \n",
       "3       182.6     177.10      181.00       180.90         180.23   \n",
       "4       180.8     177.15      178.20       177.75         178.12   \n",
       "\n",
       "   Total Traded Quantity      Turnover  No. of Trades Deliverable Qty  \\\n",
       "0                8101663  1.485310e+09          79381         3735374   \n",
       "1                9043319  1.600480e+09          75722         3454927   \n",
       "2                5311640  9.432809e+08          62150         2169513   \n",
       "3                5555420  1.001237e+09          54314         2444423   \n",
       "4                4641140  8.266740e+08          50379         2393295   \n",
       "\n",
       "  % Dly Qt to Traded Qty  \n",
       "0                  46.11  \n",
       "1                   38.2  \n",
       "2                  40.84  \n",
       "3                     44  \n",
       "4                  51.57  "
      ]
     },
     "execution_count": 26,
     "metadata": {},
     "output_type": "execute_result"
    }
   ],
   "source": [
    "data_set = pd.read_csv(r'C:\\Users\\AdityaAgarwal\\market.csv')\n",
    "data_set.head()"
   ]
  },
  {
   "cell_type": "code",
   "execution_count": 27,
   "id": "876f93a4",
   "metadata": {},
   "outputs": [],
   "source": [
    "use_data = data_set[['Date Value','Close Price' ]]"
   ]
  },
  {
   "cell_type": "code",
   "execution_count": 55,
   "id": "fac8cb00",
   "metadata": {},
   "outputs": [
    {
     "data": {
      "text/html": [
       "<div>\n",
       "<style scoped>\n",
       "    .dataframe tbody tr th:only-of-type {\n",
       "        vertical-align: middle;\n",
       "    }\n",
       "\n",
       "    .dataframe tbody tr th {\n",
       "        vertical-align: top;\n",
       "    }\n",
       "\n",
       "    .dataframe thead th {\n",
       "        text-align: right;\n",
       "    }\n",
       "</style>\n",
       "<table border=\"1\" class=\"dataframe\">\n",
       "  <thead>\n",
       "    <tr style=\"text-align: right;\">\n",
       "      <th></th>\n",
       "      <th>Date Value</th>\n",
       "      <th>Close Price</th>\n",
       "    </tr>\n",
       "  </thead>\n",
       "  <tbody>\n",
       "    <tr>\n",
       "      <th>0</th>\n",
       "      <td>43941.0</td>\n",
       "      <td>181.10</td>\n",
       "    </tr>\n",
       "    <tr>\n",
       "      <th>1</th>\n",
       "      <td>43942.0</td>\n",
       "      <td>178.05</td>\n",
       "    </tr>\n",
       "    <tr>\n",
       "      <th>2</th>\n",
       "      <td>43943.0</td>\n",
       "      <td>178.55</td>\n",
       "    </tr>\n",
       "    <tr>\n",
       "      <th>3</th>\n",
       "      <td>43944.0</td>\n",
       "      <td>180.90</td>\n",
       "    </tr>\n",
       "    <tr>\n",
       "      <th>4</th>\n",
       "      <td>43945.0</td>\n",
       "      <td>177.75</td>\n",
       "    </tr>\n",
       "  </tbody>\n",
       "</table>\n",
       "</div>"
      ],
      "text/plain": [
       "   Date Value  Close Price\n",
       "0     43941.0       181.10\n",
       "1     43942.0       178.05\n",
       "2     43943.0       178.55\n",
       "3     43944.0       180.90\n",
       "4     43945.0       177.75"
      ]
     },
     "execution_count": 55,
     "metadata": {},
     "output_type": "execute_result"
    }
   ],
   "source": [
    "use_data.head()"
   ]
  },
  {
   "cell_type": "code",
   "execution_count": 137,
   "id": "23164fe7",
   "metadata": {},
   "outputs": [],
   "source": [
    "train_dataset = use_data.loc[:450, :]\n",
    "test_dataset = use_data.drop(train_dataset.index)\n",
    "\n",
    "\n",
    "#train_dataset = scale(train_dataset)\n",
    "#test_dataset = scale(test_dataset)\n",
    "#stock_data"
   ]
  },
  {
   "cell_type": "code",
   "execution_count": 138,
   "id": "d9627806",
   "metadata": {},
   "outputs": [],
   "source": [
    "#train_dataset\n",
    "#test_dataset"
   ]
  },
  {
   "cell_type": "code",
   "execution_count": 165,
   "id": "73d2ca59",
   "metadata": {},
   "outputs": [],
   "source": [
    "Price_train = train_dataset.loc[:,\"Close Price\"]#.reshape(-1,1)\n",
    "Date_train = train_dataset.loc[:,\"Date Value\"]#.reshape(-1,1)"
   ]
  },
  {
   "cell_type": "code",
   "execution_count": 221,
   "id": "ef833425",
   "metadata": {},
   "outputs": [],
   "source": [
    "#use_data.plot()"
   ]
  },
  {
   "cell_type": "code",
   "execution_count": 166,
   "id": "34797d65",
   "metadata": {},
   "outputs": [],
   "source": [
    "Price_train = np.array(Price_train)\n",
    "Price_train = Price_train[:, np.newaxis]\n",
    "Date_train = np.array(Date_train)\n",
    "Date_train = Date_train[:, np.newaxis]"
   ]
  },
  {
   "cell_type": "code",
   "execution_count": 163,
   "id": "7f6b94b2",
   "metadata": {},
   "outputs": [],
   "source": [
    "#Price"
   ]
  },
  {
   "cell_type": "code",
   "execution_count": 160,
   "id": "6ad2ab4e",
   "metadata": {},
   "outputs": [
    {
     "data": {
      "text/plain": [
       "451"
      ]
     },
     "execution_count": 160,
     "metadata": {},
     "output_type": "execute_result"
    }
   ],
   "source": [
    "len(Price)"
   ]
  },
  {
   "cell_type": "code",
   "execution_count": 167,
   "id": "69e17748",
   "metadata": {},
   "outputs": [],
   "source": [
    "scalar_price = sk.StandardScaler().fit(np.array(Price_train))\n",
    "Price_train = scalar_price.transform(Price_train)\n",
    "scalar_date = sk.StandardScaler().fit(np.array(Date_train))\n",
    "Date_train = scalar_date.transform(Date_train)"
   ]
  },
  {
   "cell_type": "code",
   "execution_count": 172,
   "id": "a926145b",
   "metadata": {},
   "outputs": [],
   "source": [
    "#Date_train"
   ]
  },
  {
   "cell_type": "code",
   "execution_count": 169,
   "id": "59342864",
   "metadata": {},
   "outputs": [
    {
     "data": {
      "image/png": "[encoded data removed]",
      "text/plain": [
       "<Figure size 432x288 with 1 Axes>"
      ]
     },
     "metadata": {
      "needs_background": "light"
     },
     "output_type": "display_data"
    }
   ],
   "source": [
    "plt.plot(Date_train[:,0], Price_train[:,0])\n",
    "plt.show()"
   ]
  },
  {
   "cell_type": "code",
   "execution_count": 84,
   "id": "3c470e65",
   "metadata": {},
   "outputs": [],
   "source": [
    "#normalizer = tf.keras.layers.Normalization(axis=-1)\n",
    "#normalizer.adapt(Date)"
   ]
  },
  {
   "cell_type": "code",
   "execution_count": 93,
   "id": "cbaac9d5",
   "metadata": {},
   "outputs": [
    {
     "data": {
      "text/plain": [
       "\"def get_basic_model():\\n    model = tf.keras.Sequential([normalizer,\\n                                 tf.keras.layers.Dense(10, activation='relu'),\\n                                 tf.keras.layers.Dense(10, activation='relu'),\\n                                 tf.keras.layers.Dense(1)])\\n    \\n    \\n    model.compile(optimizer='adam',\\n                loss=tf.keras.losses.BinaryCrossentropy(from_logits=True),\\n                metrics=['accuracy'])\\n    return model\""
      ]
     },
     "execution_count": 93,
     "metadata": {},
     "output_type": "execute_result"
    }
   ],
   "source": [
    "\"\"\"def get_basic_model():\n",
    "    model = tf.keras.Sequential([normalizer,\n",
    "                                 tf.keras.layers.Dense(10, activation='relu'),\n",
    "                                 tf.keras.layers.Dense(10, activation='relu'),\n",
    "                                 tf.keras.layers.Dense(1)])\n",
    "    \n",
    "    \n",
    "    model.compile(optimizer='adam',\n",
    "                loss=tf.keras.losses.BinaryCrossentropy(from_logits=True),\n",
    "                metrics=['accuracy'])\n",
    "    return model\"\"\""
   ]
  },
  {
   "cell_type": "code",
   "execution_count": 95,
   "id": "f0294c6b",
   "metadata": {},
   "outputs": [],
   "source": [
    "#model = get_basic_model()"
   ]
  },
  {
   "cell_type": "code",
   "execution_count": 205,
   "id": "7acd8c92",
   "metadata": {},
   "outputs": [],
   "source": [
    "model = tf.keras.Sequential()\n",
    "\n",
    "model.add(tf.keras.Input(shape = (1,1)))\n",
    "model.add(tf.keras.layers.Dense(10, activation=\"relu\"))\n",
    "model.add(tf.keras.layers.Dense(20, activation=\"relu\"))\n",
    "model.add(tf.keras.layers.Dense(10, activation=\"relu\"))\n",
    "model.add(tf.keras.layers.Dense(1))"
   ]
  },
  {
   "cell_type": "code",
   "execution_count": 206,
   "id": "b8d35876",
   "metadata": {},
   "outputs": [],
   "source": [
    "#model.weights\n",
    "\n",
    "model.compile(optimizer='adam',\n",
    "                loss=tf.keras.losses.BinaryCrossentropy(from_logits=True),\n",
    "                metrics=['accuracy'])"
   ]
  },
  {
   "cell_type": "code",
   "execution_count": 207,
   "id": "d319c583",
   "metadata": {},
   "outputs": [
    {
     "name": "stdout",
     "output_type": "stream",
     "text": [
      "15/15 [==============================] - 1s 1ms/step - loss: 0.4435 - accuracy: 0.0000e+00\n"
     ]
    },
    {
     "data": {
      "text/plain": [
       "<keras.callbacks.History at 0x148dabf2be0>"
      ]
     },
     "execution_count": 207,
     "metadata": {},
     "output_type": "execute_result"
    }
   ],
   "source": [
    "model.fit(Date_train, Price_train)"
   ]
  },
  {
   "cell_type": "code",
   "execution_count": null,
   "id": "6b190d32",
   "metadata": {},
   "outputs": [],
   "source": []
  },
  {
   "cell_type": "code",
   "execution_count": 117,
   "id": "03a36e22",
   "metadata": {},
   "outputs": [],
   "source": [
    "#Price_test = test_dataset[: , 1].reshape(-1,1)\n",
    "#Date_test = test_dataset[:, 0].reshape(-1,1)"
   ]
  },
  {
   "cell_type": "code",
   "execution_count": 208,
   "id": "7c5a19c3",
   "metadata": {},
   "outputs": [],
   "source": [
    "Price_test = test_dataset.loc[:,\"Close Price\"]#.reshape(-1,1)\n",
    "Date_test = test_dataset.loc[:,\"Date Value\"]#.reshape(-1,1)\n",
    "\n",
    "Price_test = np.array(Price_test)\n",
    "Price_test = Price_test[:, np.newaxis]\n",
    "Date_test = np.array(Date_test)\n",
    "Date_test = Date_test[:, np.newaxis]\n"
   ]
  },
  {
   "cell_type": "code",
   "execution_count": 209,
   "id": "3878b545",
   "metadata": {},
   "outputs": [],
   "source": [
    "scalar_price_test = sk.StandardScaler().fit(np.array(Price_test))\n",
    "Price_test = scalar_price_test.transform(Price_test)\n",
    "scalar_date_test = sk.StandardScaler().fit(np.array(Date_test))\n",
    "Date_test = scalar_date_test.transform(Date_test)"
   ]
  },
  {
   "cell_type": "code",
   "execution_count": 210,
   "id": "c289514d",
   "metadata": {},
   "outputs": [
    {
     "data": {
      "image/png": "[encoded data removed]",
      "text/plain": [
       "<Figure size 432x288 with 1 Axes>"
      ]
     },
     "metadata": {
      "needs_background": "light"
     },
     "output_type": "display_data"
    }
   ],
   "source": [
    "plt.plot(Date_test[:,0], Price_test[:,0])\n",
    "plt.show()"
   ]
  },
  {
   "cell_type": "code",
   "execution_count": 202,
   "id": "53b6ed1d",
   "metadata": {},
   "outputs": [],
   "source": [
    "#Date_test\n"
   ]
  },
  {
   "cell_type": "code",
   "execution_count": 211,
   "id": "d1e72a11",
   "metadata": {},
   "outputs": [],
   "source": [
    "Price_predicted_scaled = model.predict(Date_test)"
   ]
  },
  {
   "cell_type": "code",
   "execution_count": 212,
   "id": "fdf6ca29",
   "metadata": {},
   "outputs": [
    {
     "data": {
      "image/png": "[encoded data removed]",
      "text/plain": [
       "<Figure size 432x288 with 1 Axes>"
      ]
     },
     "metadata": {
      "needs_background": "light"
     },
     "output_type": "display_data"
    }
   ],
   "source": [
    "plt.plot(Date_test[:,0], Price_predicted_scaled[:,0])\n",
    "plt.show()"
   ]
  },
  {
   "cell_type": "code",
   "execution_count": 203,
   "id": "09ab5fd8",
   "metadata": {},
   "outputs": [],
   "source": [
    "#price_predicted# = scalar_price_test.inverse_transform(Price_predicted_scaled)"
   ]
  },
  {
   "cell_type": "code",
   "execution_count": 214,
   "id": "88c34a1e",
   "metadata": {},
   "outputs": [],
   "source": [
    "#Price_predicted, scalar_price_test.inverse_transform(Price_test)"
   ]
  },
  {
   "cell_type": "code",
   "execution_count": null,
   "id": "a003a0b5",
   "metadata": {},
   "outputs": [],
   "source": []
  },
  {
   "cell_type": "code",
   "execution_count": null,
   "id": "f83e2ce9",
   "metadata": {},
   "outputs": [],
   "source": []
  },
  {
   "cell_type": "code",
   "execution_count": 130,
   "id": "f43c38b8",
   "metadata": {},
   "outputs": [
    {
     "data": {
      "text/plain": [
       "0.038733486"
      ]
     },
     "execution_count": 130,
     "metadata": {},
     "output_type": "execute_result"
    }
   ],
   "source": [
    "Price_predicted.mean()"
   ]
  },
  {
   "cell_type": "code",
   "execution_count": 131,
   "id": "d4d8e5a2",
   "metadata": {},
   "outputs": [
    {
     "data": {
      "text/plain": [
       "0.2563189"
      ]
     },
     "execution_count": 131,
     "metadata": {},
     "output_type": "execute_result"
    }
   ],
   "source": [
    "Price_predicted.std()"
   ]
  },
  {
   "cell_type": "code",
   "execution_count": 128,
   "id": "5610bba9",
   "metadata": {},
   "outputs": [],
   "source": [
    "#Price_predicted"
   ]
  },
  {
   "cell_type": "code",
   "execution_count": 132,
   "id": "e1c854df",
   "metadata": {},
   "outputs": [],
   "source": [
    "#Final_Price = sk.StandardScaler.inverse_transform(Price_predicted)"
   ]
  },
  {
   "cell_type": "code",
   "execution_count": 136,
   "id": "48d40bc8",
   "metadata": {},
   "outputs": [],
   "source": [
    "#Price_predicted"
   ]
  },
  {
   "cell_type": "code",
   "execution_count": 135,
   "id": "72130447",
   "metadata": {},
   "outputs": [],
   "source": [
    "#Price_test"
   ]
  },
  {
   "cell_type": "code",
   "execution_count": null,
   "id": "6f7d906b",
   "metadata": {},
   "outputs": [],
   "source": []
  },
  {
   "cell_type": "code",
   "execution_count": null,
   "id": "0d883561",
   "metadata": {},
   "outputs": [],
   "source": []
  },
  {
   "cell_type": "code",
   "execution_count": null,
   "id": "a7443444",
   "metadata": {},
   "outputs": [],
   "source": []
  },
  {
   "cell_type": "code",
   "execution_count": null,
   "id": "28081f7a",
   "metadata": {},
   "outputs": [],
   "source": []
  },
  {
   "cell_type": "code",
   "execution_count": null,
   "id": "06c5e437",
   "metadata": {},
   "outputs": [],
   "source": []
  },
  {
   "cell_type": "code",
   "execution_count": null,
   "id": "b443dada",
   "metadata": {},
   "outputs": [],
   "source": []
  },
  {
   "cell_type": "code",
   "execution_count": null,
   "id": "36d210c4",
   "metadata": {},
   "outputs": [],
   "source": []
  },
  {
   "cell_type": "code",
   "execution_count": null,
   "id": "1757b76c",
   "metadata": {},
   "outputs": [],
   "source": []
  },
  {
   "cell_type": "code",
   "execution_count": null,
   "id": "7c022367",
   "metadata": {},
   "outputs": [],
   "source": []
  },
  {
   "cell_type": "code",
   "execution_count": null,
   "id": "e925bedf",
   "metadata": {},
   "outputs": [],
   "source": []
  },
  {
   "cell_type": "code",
   "execution_count": null,
   "id": "eb30f4f0",
   "metadata": {},
   "outputs": [],
   "source": []
  },
  {
   "cell_type": "code",
   "execution_count": 9,
   "id": "72718694",
   "metadata": {},
   "outputs": [],
   "source": [
    "plot = mp.pyplot.bar(data_set[\"Average Price\"], data_set[\"Date\"])"
   ]
  },
  {
   "cell_type": "code",
   "execution_count": 9,
   "id": "def52639",
   "metadata": {},
   "outputs": [
    {
     "data": {
      "image/png": "[encoded data removed]",
      "text/plain": [
       "<Figure size 432x288 with 1 Axes>"
      ]
     },
     "metadata": {
      "needs_background": "light"
     },
     "output_type": "display_data"
    }
   ],
   "source": [
    "x = data_set[\"Average Price\"]\n",
    "y = data_set[\"Date\"]\n",
    "\n",
    "ax = plt.subplot()\n",
    "\n",
    "ax.plot(y,x, linewidth = 1.0)\n",
    "\n",
    "ax.boxplot()\n",
    "\n",
    "plt.show()"
   ]
  },
  {
   "cell_type": "code",
   "execution_count": 13,
   "id": "b89d6413",
   "metadata": {},
   "outputs": [
    {
     "data": {
      "image/png": "[encoded data removed]",
      "text/plain": [
       "<Figure size 432x288 with 1 Axes>"
      ]
     },
     "metadata": {
      "needs_background": "light"
     },
     "output_type": "display_data"
    }
   ],
   "source": [
    "ax1 = plt.subplot()\n",
    "ax1.scatter(y,x)\n",
    "plt.show()"
   ]
  },
  {
   "cell_type": "markdown",
   "id": "97885388",
   "metadata": {},
   "source": [
    "import matplotlib.pyplot as plt\n",
    "import numpy as np\n",
    "\n",
    "#plt.style.use('_mpl-gallery')\n",
    "\n",
    "# make data\n",
    "x = np.linspace(0, 10, 100)\n",
    "y = 4 + 2 * np.sin(2 * x)\n",
    "\n",
    "# plot\n",
    "fig, ax = plt.subplots()\n",
    "\n",
    "ax.plot(x, y, linewidth=2.0)\n",
    "\n",
    "ax.set(xlim=(0, 8), xticks=np.arange(1, 8),\n",
    "       ylim=(0, 8), yticks=np.arange(1, 8))\n",
    "\n",
    "plt.show()"
   ]
  },
  {
   "cell_type": "code",
   "execution_count": null,
   "id": "b503c021",
   "metadata": {},
   "outputs": [],
   "source": []
  }
 ],
 "metadata": {
  "kernelspec": {
   "display_name": "Python 3 (ipykernel)",
   "language": "python",
   "name": "python3"
  },
  "language_info": {
   "codemirror_mode": {
    "name": "ipython",
    "version": 3
   },
   "file_extension": ".py",
   "mimetype": "text/x-python",
   "name": "python",
   "nbconvert_exporter": "python",
   "pygments_lexer": "ipython3",
   "version": "3.9.7"
  }
 },
 "nbformat": 4,
 "nbformat_minor": 5
}
